{
 "cells": [
  {
   "cell_type": "markdown",
   "metadata": {},
   "source": [
    "# Make sure the following packages are installed before trying to run this code:\n",
    "___\n",
    "\n",
    "* from neuralprophet import NeuralProphet\n",
    "* from pmutils import redshift\n",
    "* from pandas.plotting import register_matplotlib_converters\n",
    "* import pandas as pd\n",
    "* import numpy as np\n",
    "* from math import floor\n",
    "* from scipy.optimize import curve_fit\n",
    "* from neuralprophet import set_random_seed \n",
    "* set_random_seed(0)"
   ]
  },
  {
   "cell_type": "code",
   "execution_count": 2,
   "metadata": {},
   "outputs": [],
   "source": [
    "def metric_forecast(input_df, date_field, val_field, freq, pred_time, model_metrics = False):\n",
    "    ts_df = input_df[[date_field, val_field]]\n",
    "    ts_df.columns = ['ds', 'y']\n",
    "    \n",
    "    m = NeuralProphet(\n",
    "        daily_seasonality = False,\n",
    "        batch_size = 32,\n",
    "        epochs = 55\n",
    "    )\n",
    "    \n",
    "    metrics = m.fit(\n",
    "        ts_df,\n",
    "        freq = freq,\n",
    "        validate_each_epoch = True,\n",
    "        valid_p = 0.2\n",
    "    )\n",
    "    \n",
    "    future = m.make_future_dataframe(\n",
    "        ts_df, \n",
    "        periods=pred_time, \n",
    "        n_historic_predictions=len(ts_df)\n",
    "    )\n",
    "    \n",
    "    forecast = m.predict(future)\n",
    "    \n",
    "    if model_metrics:\n",
    "        return metrics, forecast\n",
    "    else:\n",
    "        return forecast"
   ]
  },
  {
   "cell_type": "code",
   "execution_count": 3,
   "metadata": {},
   "outputs": [],
   "source": [
    "def ts_pre_post_impact(input_df, date_field, val_field, freq, pred_time, start_date, end_date, pre_time = False):\n",
    "    output_df = metric_forecast(input_df, date_field, val_field, freq, pred_time, model_metrics = False)\n",
    "    \n",
    "    post_period = output_df[\n",
    "        (pd.to_datetime(output_df['ds']) >= start_date) &\n",
    "        (pd.to_datetime(output_df['ds']) < end_date)\n",
    "    ]\n",
    "    \n",
    "    pre_period = output_df[pd.to_datetime(output_df['ds']) < start_date]\n",
    "    pre_mean = pre_period['residual1'].mean()\n",
    "    pre_std = pre_period['residual1'].std()\n",
    "    \n",
    "    pre_period['residual_std'] = (pre_period['residual1'] - pre_mean)/pre_std\n",
    "    \n",
    "    post_period['residual_std'] = (post_period['residual1'] - pre_mean)/pre_std\n",
    "    \n",
    "    if pre_time:\n",
    "        return pre_period, post_period\n",
    "    else:\n",
    "        return post_period"
   ]
  },
  {
   "cell_type": "code",
   "execution_count": 4,
   "metadata": {},
   "outputs": [],
   "source": [
    "def window_impact(input_df, date_field, val_field, freq, pred_time, start_date, end_date):\n",
    "    pre_input, post_input = ts_pre_post_impact(\n",
    "        input_df, \n",
    "        date_field, \n",
    "        val_field, \n",
    "        freq, \n",
    "        pred_time, \n",
    "        start_date, \n",
    "        end_date, \n",
    "        pre_time = True\n",
    "    )\n",
    "    \n",
    "    pre_residual_mean = pre_input['residual1'].mean()\n",
    "    post_residual_mean = post_input['residual1'].mean()\n",
    "    pre_post_impact = post_input['residual_std'].mean() - pre_input['residual_std'].mean()\n",
    "    \n",
    "    return pre_post_impact, pre_residual_mean, post_residual_mean"
   ]
  },
  {
   "cell_type": "code",
   "execution_count": 5,
   "metadata": {},
   "outputs": [],
   "source": [
    "def get_df_name(df):\n",
    "    name =[x for x in globals() if globals()[x] is df][0]\n",
    "    return name"
   ]
  },
  {
   "cell_type": "code",
   "execution_count": 6,
   "metadata": {},
   "outputs": [],
   "source": [
    "def compare_df_performance(list_of_dfs, date_field, val_field, freq, pred_time, start_date, end_date):\n",
    "    \n",
    "    col_names = [\"dataset\", \"prepost_impact\", \"pre_difference\", \"post_difference\", \"start_date\", \"end_date\"]\n",
    "    result_df = pd.DataFrame(columns = col_names)\n",
    "\n",
    "    for i in list_of_dfs:\n",
    "        impact_val, pre_impact, post_impact = window_impact(\n",
    "            input_df = i, \n",
    "            date_field = 'event_date', \n",
    "            val_field = 'gmv', \n",
    "            freq = 'D', \n",
    "            pred_time = 28, \n",
    "            start_date = start_date, \n",
    "            end_date = end_date\n",
    "        )\n",
    "\n",
    "        result_df = result_df.append(\n",
    "            {\n",
    "                'dataset': get_df_name(i),\n",
    "                'prepost_impact': impact_val,\n",
    "                'pre_difference': pre_impact,\n",
    "                'post_difference': post_impact,\n",
    "                'start_date': start_date,\n",
    "                'end_date': end_date\n",
    "            },\n",
    "            ignore_index = True\n",
    "        )\n",
    "\n",
    "    return result_df"
   ]
  },
  {
   "cell_type": "markdown",
   "metadata": {},
   "source": [
    "# Code Template:\n",
    "___\n",
    "\n",
    "Create a list of the dataframes you will be checking:\n",
    "\n",
    "df_list = [\n",
    "    gmv_df,\n",
    "    org_gmv_df,\n",
    "    paid_gmv_df,\n",
    "    org_web_gmv_df,\n",
    "    org_ios_gmv_df,\n",
    "    org_and_gmv_df,\n",
    "    paid_web_gmv_df,\n",
    "    paid_ios_gmv_df,\n",
    "    paid_and_gmv_df\n",
    "]"
   ]
  },
  {
   "cell_type": "markdown",
   "metadata": {},
   "source": [
    "# Code For Running the Function:\n",
    "___\n",
    "\n",
    "```\n",
    "import warnings\n",
    "warnings.filterwarnings('ignore')\n",
    "\n",
    "test_output = compare_df_performance(\n",
    "    list_of_dfs = df_list, \n",
    "    date_field = 'event_date', \n",
    "    val_field = 'gmv', \n",
    "    freq = 'D', \n",
    "    pred_time = 7, \n",
    "    start_date = '2020-11-27', \n",
    "    end_date = '2020-12-13'\n",
    ")\n",
    "\n",
    "warnings.filterwarnings('default')\n",
    "```"
   ]
  },
  {
   "cell_type": "code",
   "execution_count": null,
   "metadata": {},
   "outputs": [],
   "source": []
  }
 ],
 "metadata": {
  "kernelspec": {
   "display_name": "Python 3",
   "language": "python",
   "name": "python3"
  },
  "language_info": {
   "codemirror_mode": {
    "name": "ipython",
    "version": 3
   },
   "file_extension": ".py",
   "mimetype": "text/x-python",
   "name": "python",
   "nbconvert_exporter": "python",
   "pygments_lexer": "ipython3",
   "version": "3.9.1"
  }
 },
 "nbformat": 4,
 "nbformat_minor": 4
}
