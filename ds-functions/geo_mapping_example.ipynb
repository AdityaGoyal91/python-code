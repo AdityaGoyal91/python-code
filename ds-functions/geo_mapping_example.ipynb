{
 "cells": [
  {
   "cell_type": "markdown",
   "metadata": {},
   "source": [
    "```\n",
    "import datetime\n",
    "import pandas as pd\n",
    "\n",
    "import pandas.io.sql as pdsql\n",
    "import psycopg2\n",
    "\n",
    "from pmutils import creds\n",
    "from pmutils.query import run_sql\n",
    "\n",
    "rs_conn = creds.create_connection()\n",
    "\n",
    "rs_conn\n",
    "```"
   ]
  },
  {
   "cell_type": "markdown",
   "metadata": {},
   "source": [
    "```\n",
    "ip_data = '''\n",
    "    select\n",
    "        uc.signup_ip_state_code as state_code,\n",
    "        count(du.user_id) as users,\n",
    "        si.pop_2019,\n",
    "        sum(case when du.buyer_activated_at is not null then 1 else 0 end) as buyers,\n",
    "        cast(cast(count(du.user_id) as float)/cast(si.pop_2019 as float) as dec(13,4)) as perc_total_pop\n",
    "    from analytics.dw_users as du\n",
    "    join analytics.dw_users_cs as uc\n",
    "        on du.user_id = uc.user_id\n",
    "    join analytics_scratch.ag_state_info as si\n",
    "        on uc.signup_ip_state_code = state_code\n",
    "    where\n",
    "        du.home_domain = 'us'\n",
    "        and uc.signup_ip is not null\n",
    "        --and du.gender in ('male', 'male (hidden)')\n",
    "    group by uc.signup_ip_state_code,\n",
    "        si.pop_2019\n",
    "'''\n",
    "\n",
    "ip_data = pdsql.read_sql_query(ip_data,con=rs_conn)\n",
    "```"
   ]
  },
  {
   "cell_type": "markdown",
   "metadata": {},
   "source": [
    "```\n",
    "import plotly.plotly as py \n",
    "import plotly.graph_objs as go \n",
    "import pandas as pd \n",
    "  \n",
    "# some more libraries to plot graph \n",
    "from plotly.offline import download_plotlyjs, init_notebook_mode, iplot, plot \n",
    "  \n",
    "# To establish connection \n",
    "init_notebook_mode(connected = True) \n",
    "\n",
    "# plot geographical plots \n",
    "data = dict(type = 'choropleth', \n",
    "  \n",
    "            # location: Arizoana, California, Newyork \n",
    "            locations = locs, \n",
    "              \n",
    "            # States of USA \n",
    "            locationmode = 'USA-states', \n",
    "              \n",
    "            # colorscale can be added as per requirement \n",
    "            colorscale = 'Viridis', \n",
    "              \n",
    "            # text can be given anything you like \n",
    "            # text = ['text 1', 'text 2', 'text 3'], \n",
    "            z = perc_total_pop, \n",
    "            colorbar = {'title': '% Total Pop'}) \n",
    "              \n",
    "layout = dict(geo ={'scope': 'usa'}) \n",
    "  \n",
    "# passing data dictionary as a list  \n",
    "choromap = go.Figure(data = [data], layout = layout) \n",
    "  \n",
    "# plotting graph \n",
    "iplot(choromap)\n",
    "```"
   ]
  },
  {
   "cell_type": "code",
   "execution_count": null,
   "metadata": {},
   "outputs": [],
   "source": []
  }
 ],
 "metadata": {
  "kernelspec": {
   "display_name": "Python 3",
   "language": "python",
   "name": "python3"
  },
  "language_info": {
   "codemirror_mode": {
    "name": "ipython",
    "version": 3
   },
   "file_extension": ".py",
   "mimetype": "text/x-python",
   "name": "python",
   "nbconvert_exporter": "python",
   "pygments_lexer": "ipython3",
   "version": "3.9.1"
  },
  "varInspector": {
   "cols": {
    "lenName": 16,
    "lenType": 16,
    "lenVar": 40
   },
   "kernels_config": {
    "python": {
     "delete_cmd_postfix": "",
     "delete_cmd_prefix": "del ",
     "library": "var_list.py",
     "varRefreshCmd": "print(var_dic_list())"
    },
    "r": {
     "delete_cmd_postfix": ") ",
     "delete_cmd_prefix": "rm(",
     "library": "var_list.r",
     "varRefreshCmd": "cat(var_dic_list()) "
    }
   },
   "types_to_exclude": [
    "module",
    "function",
    "builtin_function_or_method",
    "instance",
    "_Feature"
   ],
   "window_display": false
  }
 },
 "nbformat": 4,
 "nbformat_minor": 4
}
