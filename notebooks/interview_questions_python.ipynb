{
 "cells": [
  {
   "cell_type": "markdown",
   "metadata": {},
   "source": [
    "# Coding questions for Data Scientist interviews\n",
    "___\n",
    "## Goals for the Questions:\n",
    "* Can they generally use python\n",
    "* Can they manipulate and understand datasets\n",
    "    * Can they transform the data\n",
    "        * Can they normalize the dataset\n",
    "        * Can they pivot the dataset\n",
    "        * Can they deal with catagorical variables?\n",
    "    * Can they impute the dataset/Do they know when to impute?\n",
    "    * Do they check for outliers/know what to do with outliers?\n",
    "    * When splitting train and test datasets, do they check the levels in catagorical set for the 2.\n",
    "* EDA questions:\n",
    "    * How do you visualize the data before modeling to better understand the data?\n",
    "    * What prep work would you do before jumping into the model?\n",
    "* Modeling questions:\n",
    "    * How do you measure the performance of this model?\n",
    "        * Cross validation\n",
    "        * Objective function you are measuring against\n",
    "    * How do you compare multiple models against eachother? (all may not have the same model metrics)\n"
   ]
  },
  {
   "cell_type": "markdown",
   "metadata": {},
   "source": [
    "## Question 1:\n",
    "___\n",
    "You are given a list of values for one of those features. Write a function to standardize or normalize the values. How would you to change this if you had a categorical?"
   ]
  },
  {
   "cell_type": "code",
   "execution_count": 1,
   "metadata": {},
   "outputs": [
    {
     "data": {
      "text/plain": [
       "array([-1.39346603,  0.48771311,  0.90575292])"
      ]
     },
     "execution_count": 1,
     "metadata": {},
     "output_type": "execute_result"
    }
   ],
   "source": [
    "import numpy as np\n",
    "x = [1, 10, 12]\n",
    "def normalize(x):\n",
    "    for i in x:\n",
    "        norm = (x- np.mean(x))/np.std(x)\n",
    "    return norm\n",
    "\n",
    "normalize(x)"
   ]
  },
  {
   "cell_type": "markdown",
   "metadata": {},
   "source": [
    "## Question 2:\n",
    "___\n",
    "What function would you write to ingest the categorical variable below for data modeling? What's the minimum number of columns you need to solve this problem and why?"
   ]
  },
  {
   "cell_type": "code",
   "execution_count": 2,
   "metadata": {},
   "outputs": [
    {
     "ename": "ModuleNotFoundError",
     "evalue": "No module named 'pandas'",
     "output_type": "error",
     "traceback": [
      "\u001b[1;31m---------------------------------------------------------------------------\u001b[0m",
      "\u001b[1;31mModuleNotFoundError\u001b[0m                       Traceback (most recent call last)",
      "\u001b[1;32m<ipython-input-2-1c4d1524a37e>\u001b[0m in \u001b[0;36m<module>\u001b[1;34m\u001b[0m\n\u001b[0;32m      1\u001b[0m \u001b[0mx\u001b[0m\u001b[1;33m=\u001b[0m\u001b[1;33m[\u001b[0m\u001b[1;34m'cat'\u001b[0m\u001b[1;33m]\u001b[0m\u001b[1;33m*\u001b[0m\u001b[1;36m5\u001b[0m\u001b[1;33m+\u001b[0m\u001b[1;33m[\u001b[0m\u001b[1;34m'dog'\u001b[0m\u001b[1;33m]\u001b[0m\u001b[1;33m*\u001b[0m\u001b[1;36m6\u001b[0m\u001b[1;33m+\u001b[0m\u001b[1;33m[\u001b[0m\u001b[1;34m'bird'\u001b[0m\u001b[1;33m]\u001b[0m\u001b[1;33m*\u001b[0m\u001b[1;36m3\u001b[0m\u001b[1;33m\u001b[0m\u001b[1;33m\u001b[0m\u001b[0m\n\u001b[0;32m      2\u001b[0m \u001b[1;33m\u001b[0m\u001b[0m\n\u001b[1;32m----> 3\u001b[1;33m \u001b[1;32mimport\u001b[0m \u001b[0mpandas\u001b[0m \u001b[1;32mas\u001b[0m \u001b[0mpd\u001b[0m\u001b[1;33m\u001b[0m\u001b[1;33m\u001b[0m\u001b[0m\n\u001b[0m\u001b[0;32m      4\u001b[0m \u001b[1;32mdef\u001b[0m \u001b[0mconvert_to_categorical\u001b[0m\u001b[1;33m(\u001b[0m\u001b[0mx\u001b[0m\u001b[1;33m)\u001b[0m\u001b[1;33m:\u001b[0m\u001b[1;33m\u001b[0m\u001b[1;33m\u001b[0m\u001b[0m\n\u001b[0;32m      5\u001b[0m     \u001b[0mcatlist\u001b[0m \u001b[1;33m=\u001b[0m \u001b[0mlist\u001b[0m\u001b[1;33m(\u001b[0m\u001b[1;33m)\u001b[0m\u001b[1;33m\u001b[0m\u001b[1;33m\u001b[0m\u001b[0m\n",
      "\u001b[1;31mModuleNotFoundError\u001b[0m: No module named 'pandas'"
     ]
    }
   ],
   "source": [
    "x=['cat']*5+['dog']*6+['bird']*3\n",
    "\n",
    "import pandas as pd\n",
    "def convert_to_categorical(x):\n",
    "    catlist = list()\n",
    "    categories = set(x)\n",
    "\n",
    "    for i in x:\n",
    "        obs = dict()\n",
    "        for cat in categories:\n",
    "            obs[cat] = 1 if i==cat else 0\n",
    "        catlist.append(obs)\n",
    "    return pd.DataFrame(catlist)"
   ]
  },
  {
   "cell_type": "markdown",
   "metadata": {},
   "source": [
    "## Question 3:\n",
    "___\n",
    "How would you evaluate outliers? Return the list with value 1 if is an outlier 0 otherwise."
   ]
  },
  {
   "cell_type": "code",
   "execution_count": 3,
   "metadata": {},
   "outputs": [],
   "source": [
    "import numpy as np\n",
    "x = [1, 10, 12, 100, 1000]+[1]*1000\n",
    "\n",
    "def is_outlier(x, threshold):\n",
    "    #Call normalize above\n",
    "    return [1 if i > threshold else 0 for i in normalize(x) ]\n",
    "\n",
    "outliers = is_outlier(x, 3)"
   ]
  },
  {
   "cell_type": "markdown",
   "metadata": {},
   "source": [
    "## Question 4:\n",
    "___\n",
    "Given N differnt models, M, that return predicted value y given x, write a function to return the best model m.\n",
    "\n",
    "You are given a predict function that would work on all models, m, which can be called as such, m.predict(x)"
   ]
  },
  {
   "cell_type": "code",
   "execution_count": 4,
   "metadata": {},
   "outputs": [],
   "source": [
    "def obj_func(model, y):\n",
    "    y_hat = model.predict(x)\n",
    "    rmse = ((y_hat - y)**2/len(y_hat))**0.5\n",
    "    \n",
    "    return rmse\n",
    "\n",
    "def best_model(models):\n",
    "\n",
    "    results_df = pd.DataFrame(\n",
    "        columns=[\n",
    "            'model', \n",
    "            'rmse'\n",
    "        ]\n",
    "    )\n",
    "    \n",
    "    for m in models:\n",
    "        rmse = obj_func(m, y)\n",
    "        results_df = tb_results.append(\n",
    "            {\n",
    "                'model': m,\n",
    "                'rmse': rmse\n",
    "            },\n",
    "            ignore_index = True\n",
    "        )\n",
    "    \n",
    "    results_df = results_df.sort_values(by = 'rmse', ascending = True)\n",
    "    \n",
    "    return results_df.head(1)"
   ]
  },
  {
   "cell_type": "code",
   "execution_count": null,
   "metadata": {},
   "outputs": [],
   "source": []
  }
 ],
 "metadata": {
  "kernelspec": {
   "display_name": "Python 3",
   "language": "python",
   "name": "python3"
  },
  "language_info": {
   "codemirror_mode": {
    "name": "ipython",
    "version": 3
   },
   "file_extension": ".py",
   "mimetype": "text/x-python",
   "name": "python",
   "nbconvert_exporter": "python",
   "pygments_lexer": "ipython3",
   "version": "3.9.1"
  },
  "varInspector": {
   "cols": {
    "lenName": 16,
    "lenType": 16,
    "lenVar": 40
   },
   "kernels_config": {
    "python": {
     "delete_cmd_postfix": "",
     "delete_cmd_prefix": "del ",
     "library": "var_list.py",
     "varRefreshCmd": "print(var_dic_list())"
    },
    "r": {
     "delete_cmd_postfix": ") ",
     "delete_cmd_prefix": "rm(",
     "library": "var_list.r",
     "varRefreshCmd": "cat(var_dic_list()) "
    }
   },
   "types_to_exclude": [
    "module",
    "function",
    "builtin_function_or_method",
    "instance",
    "_Feature"
   ],
   "window_display": false
  }
 },
 "nbformat": 4,
 "nbformat_minor": 4
}
