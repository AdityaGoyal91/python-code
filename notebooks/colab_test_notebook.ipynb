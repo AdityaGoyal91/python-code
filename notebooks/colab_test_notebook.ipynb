{
  "nbformat": 4,
  "nbformat_minor": 0,
  "metadata": {
    "colab": {
      "name": "colab_test_notebook.ipynb",
      "provenance": [],
      "authorship_tag": "ABX9TyPfN8oyAhWtzUG/GwEQruqi",
      "include_colab_link": true
    },
    "kernelspec": {
      "name": "python3",
      "display_name": "Python 3"
    }
  },
  "cells": [
    {
      "cell_type": "markdown",
      "metadata": {
        "id": "view-in-github",
        "colab_type": "text"
      },
      "source": [
        "<a href=\"https://colab.research.google.com/github/AdityaGoyal91/python-scripts/blob/master/colab_test_notebook.ipynb\" target=\"_parent\"><img src=\"https://colab.research.google.com/assets/colab-badge.svg\" alt=\"Open In Colab\"/></a>"
      ]
    },
    {
      "cell_type": "code",
      "metadata": {
        "id": "3G6wFvwBAGcp",
        "colab_type": "code",
        "colab": {
          "base_uri": "https://localhost:8080/",
          "height": 204
        },
        "outputId": "7356bb55-3794-43a2-b2ea-bd33b7a2f888"
      },
      "source": [
        "import pandas as pd\n",
        "from datetime import datetime\n",
        "\n",
        "url = 'https://raw.githubusercontent.com/nytimes/covid-19-data/master/us-states.csv'\n",
        "cv_df = pd.read_csv(url)\n",
        "\n",
        "cv_df.tail(5)"
      ],
      "execution_count": 2,
      "outputs": [
        {
          "output_type": "execute_result",
          "data": {
            "text/html": [
              "<div>\n",
              "<style scoped>\n",
              "    .dataframe tbody tr th:only-of-type {\n",
              "        vertical-align: middle;\n",
              "    }\n",
              "\n",
              "    .dataframe tbody tr th {\n",
              "        vertical-align: top;\n",
              "    }\n",
              "\n",
              "    .dataframe thead th {\n",
              "        text-align: right;\n",
              "    }\n",
              "</style>\n",
              "<table border=\"1\" class=\"dataframe\">\n",
              "  <thead>\n",
              "    <tr style=\"text-align: right;\">\n",
              "      <th></th>\n",
              "      <th>date</th>\n",
              "      <th>state</th>\n",
              "      <th>fips</th>\n",
              "      <th>cases</th>\n",
              "      <th>deaths</th>\n",
              "    </tr>\n",
              "  </thead>\n",
              "  <tbody>\n",
              "    <tr>\n",
              "      <th>11009</th>\n",
              "      <td>2020-09-18</td>\n",
              "      <td>Virginia</td>\n",
              "      <td>51</td>\n",
              "      <td>138702</td>\n",
              "      <td>2949</td>\n",
              "    </tr>\n",
              "    <tr>\n",
              "      <th>11010</th>\n",
              "      <td>2020-09-18</td>\n",
              "      <td>Washington</td>\n",
              "      <td>53</td>\n",
              "      <td>85583</td>\n",
              "      <td>2130</td>\n",
              "    </tr>\n",
              "    <tr>\n",
              "      <th>11011</th>\n",
              "      <td>2020-09-18</td>\n",
              "      <td>West Virginia</td>\n",
              "      <td>54</td>\n",
              "      <td>13683</td>\n",
              "      <td>297</td>\n",
              "    </tr>\n",
              "    <tr>\n",
              "      <th>11012</th>\n",
              "      <td>2020-09-18</td>\n",
              "      <td>Wisconsin</td>\n",
              "      <td>55</td>\n",
              "      <td>103211</td>\n",
              "      <td>1247</td>\n",
              "    </tr>\n",
              "    <tr>\n",
              "      <th>11013</th>\n",
              "      <td>2020-09-18</td>\n",
              "      <td>Wyoming</td>\n",
              "      <td>56</td>\n",
              "      <td>4747</td>\n",
              "      <td>49</td>\n",
              "    </tr>\n",
              "  </tbody>\n",
              "</table>\n",
              "</div>"
            ],
            "text/plain": [
              "             date          state  fips   cases  deaths\n",
              "11009  2020-09-18       Virginia    51  138702    2949\n",
              "11010  2020-09-18     Washington    53   85583    2130\n",
              "11011  2020-09-18  West Virginia    54   13683     297\n",
              "11012  2020-09-18      Wisconsin    55  103211    1247\n",
              "11013  2020-09-18        Wyoming    56    4747      49"
            ]
          },
          "metadata": {
            "tags": []
          },
          "execution_count": 2
        }
      ]
    },
    {
      "cell_type": "code",
      "metadata": {
        "id": "C-td846iNzGJ",
        "colab_type": "code",
        "colab": {
          "base_uri": "https://localhost:8080/",
          "height": 204
        },
        "outputId": "4f7a32de-487e-4cfd-9570-931cd13e98f9"
      },
      "source": [
        "cv_df['min_date'] = pd.to_datetime('2020-03-01')\n",
        "cv_df['date'] = pd.to_datetime(cv_df['date'])\n",
        "cv_df['day_num'] = (cv_df['date'] - cv_df['min_date']).dt.days\n",
        "\n",
        "cv_df.head()"
      ],
      "execution_count": 3,
      "outputs": [
        {
          "output_type": "execute_result",
          "data": {
            "text/html": [
              "<div>\n",
              "<style scoped>\n",
              "    .dataframe tbody tr th:only-of-type {\n",
              "        vertical-align: middle;\n",
              "    }\n",
              "\n",
              "    .dataframe tbody tr th {\n",
              "        vertical-align: top;\n",
              "    }\n",
              "\n",
              "    .dataframe thead th {\n",
              "        text-align: right;\n",
              "    }\n",
              "</style>\n",
              "<table border=\"1\" class=\"dataframe\">\n",
              "  <thead>\n",
              "    <tr style=\"text-align: right;\">\n",
              "      <th></th>\n",
              "      <th>date</th>\n",
              "      <th>state</th>\n",
              "      <th>fips</th>\n",
              "      <th>cases</th>\n",
              "      <th>deaths</th>\n",
              "      <th>min_date</th>\n",
              "      <th>day_num</th>\n",
              "    </tr>\n",
              "  </thead>\n",
              "  <tbody>\n",
              "    <tr>\n",
              "      <th>0</th>\n",
              "      <td>2020-01-21</td>\n",
              "      <td>Washington</td>\n",
              "      <td>53</td>\n",
              "      <td>1</td>\n",
              "      <td>0</td>\n",
              "      <td>2020-03-01</td>\n",
              "      <td>-40</td>\n",
              "    </tr>\n",
              "    <tr>\n",
              "      <th>1</th>\n",
              "      <td>2020-01-22</td>\n",
              "      <td>Washington</td>\n",
              "      <td>53</td>\n",
              "      <td>1</td>\n",
              "      <td>0</td>\n",
              "      <td>2020-03-01</td>\n",
              "      <td>-39</td>\n",
              "    </tr>\n",
              "    <tr>\n",
              "      <th>2</th>\n",
              "      <td>2020-01-23</td>\n",
              "      <td>Washington</td>\n",
              "      <td>53</td>\n",
              "      <td>1</td>\n",
              "      <td>0</td>\n",
              "      <td>2020-03-01</td>\n",
              "      <td>-38</td>\n",
              "    </tr>\n",
              "    <tr>\n",
              "      <th>3</th>\n",
              "      <td>2020-01-24</td>\n",
              "      <td>Illinois</td>\n",
              "      <td>17</td>\n",
              "      <td>1</td>\n",
              "      <td>0</td>\n",
              "      <td>2020-03-01</td>\n",
              "      <td>-37</td>\n",
              "    </tr>\n",
              "    <tr>\n",
              "      <th>4</th>\n",
              "      <td>2020-01-24</td>\n",
              "      <td>Washington</td>\n",
              "      <td>53</td>\n",
              "      <td>1</td>\n",
              "      <td>0</td>\n",
              "      <td>2020-03-01</td>\n",
              "      <td>-37</td>\n",
              "    </tr>\n",
              "  </tbody>\n",
              "</table>\n",
              "</div>"
            ],
            "text/plain": [
              "        date       state  fips  cases  deaths   min_date  day_num\n",
              "0 2020-01-21  Washington    53      1       0 2020-03-01      -40\n",
              "1 2020-01-22  Washington    53      1       0 2020-03-01      -39\n",
              "2 2020-01-23  Washington    53      1       0 2020-03-01      -38\n",
              "3 2020-01-24    Illinois    17      1       0 2020-03-01      -37\n",
              "4 2020-01-24  Washington    53      1       0 2020-03-01      -37"
            ]
          },
          "metadata": {
            "tags": []
          },
          "execution_count": 3
        }
      ]
    },
    {
      "cell_type": "code",
      "metadata": {
        "id": "b7b85r9TGenp",
        "colab_type": "code",
        "colab": {
          "base_uri": "https://localhost:8080/",
          "height": 204
        },
        "outputId": "ea4051d5-7dbc-4857-c967-61017fb62d68"
      },
      "source": [
        "ca_cv_df = cv_df[cv_df['state'] == 'California']\n",
        "                 \n",
        "ca_cv_df.head()"
      ],
      "execution_count": 4,
      "outputs": [
        {
          "output_type": "execute_result",
          "data": {
            "text/html": [
              "<div>\n",
              "<style scoped>\n",
              "    .dataframe tbody tr th:only-of-type {\n",
              "        vertical-align: middle;\n",
              "    }\n",
              "\n",
              "    .dataframe tbody tr th {\n",
              "        vertical-align: top;\n",
              "    }\n",
              "\n",
              "    .dataframe thead th {\n",
              "        text-align: right;\n",
              "    }\n",
              "</style>\n",
              "<table border=\"1\" class=\"dataframe\">\n",
              "  <thead>\n",
              "    <tr style=\"text-align: right;\">\n",
              "      <th></th>\n",
              "      <th>date</th>\n",
              "      <th>state</th>\n",
              "      <th>fips</th>\n",
              "      <th>cases</th>\n",
              "      <th>deaths</th>\n",
              "      <th>min_date</th>\n",
              "      <th>day_num</th>\n",
              "    </tr>\n",
              "  </thead>\n",
              "  <tbody>\n",
              "    <tr>\n",
              "      <th>5</th>\n",
              "      <td>2020-01-25</td>\n",
              "      <td>California</td>\n",
              "      <td>6</td>\n",
              "      <td>1</td>\n",
              "      <td>0</td>\n",
              "      <td>2020-03-01</td>\n",
              "      <td>-36</td>\n",
              "    </tr>\n",
              "    <tr>\n",
              "      <th>9</th>\n",
              "      <td>2020-01-26</td>\n",
              "      <td>California</td>\n",
              "      <td>6</td>\n",
              "      <td>2</td>\n",
              "      <td>0</td>\n",
              "      <td>2020-03-01</td>\n",
              "      <td>-35</td>\n",
              "    </tr>\n",
              "    <tr>\n",
              "      <th>13</th>\n",
              "      <td>2020-01-27</td>\n",
              "      <td>California</td>\n",
              "      <td>6</td>\n",
              "      <td>2</td>\n",
              "      <td>0</td>\n",
              "      <td>2020-03-01</td>\n",
              "      <td>-34</td>\n",
              "    </tr>\n",
              "    <tr>\n",
              "      <th>17</th>\n",
              "      <td>2020-01-28</td>\n",
              "      <td>California</td>\n",
              "      <td>6</td>\n",
              "      <td>2</td>\n",
              "      <td>0</td>\n",
              "      <td>2020-03-01</td>\n",
              "      <td>-33</td>\n",
              "    </tr>\n",
              "    <tr>\n",
              "      <th>21</th>\n",
              "      <td>2020-01-29</td>\n",
              "      <td>California</td>\n",
              "      <td>6</td>\n",
              "      <td>2</td>\n",
              "      <td>0</td>\n",
              "      <td>2020-03-01</td>\n",
              "      <td>-32</td>\n",
              "    </tr>\n",
              "  </tbody>\n",
              "</table>\n",
              "</div>"
            ],
            "text/plain": [
              "         date       state  fips  cases  deaths   min_date  day_num\n",
              "5  2020-01-25  California     6      1       0 2020-03-01      -36\n",
              "9  2020-01-26  California     6      2       0 2020-03-01      -35\n",
              "13 2020-01-27  California     6      2       0 2020-03-01      -34\n",
              "17 2020-01-28  California     6      2       0 2020-03-01      -33\n",
              "21 2020-01-29  California     6      2       0 2020-03-01      -32"
            ]
          },
          "metadata": {
            "tags": []
          },
          "execution_count": 4
        }
      ]
    },
    {
      "cell_type": "code",
      "metadata": {
        "id": "qAwvWZyDN44X",
        "colab_type": "code",
        "colab": {
          "base_uri": "https://localhost:8080/",
          "height": 641
        },
        "outputId": "553703fc-ac70-4865-c474-1e0d74e7db7f"
      },
      "source": [
        "%matplotlib inline\n",
        "import seaborn as sns\n",
        "from matplotlib import pyplot\n",
        "\n",
        "palette = sns.color_palette(\"bright\", 1)\n",
        "\n",
        "sns.set_context(\"notebook\", font_scale=1.5, rc={\"lines.linewidth\": 2})\n",
        "sns.set_style(\"darkgrid\")\n",
        "\n",
        "fig, ax = pyplot.subplots(figsize = (20,10))\n",
        "\n",
        "ax.spines[\"top\"].set_visible(False)\n",
        "ax.spines[\"bottom\"].set_visible(False)\n",
        "ax.spines[\"right\"].set_visible(False)\n",
        "ax.spines[\"left\"].set_visible(False)\n",
        "ax.get_xaxis().tick_bottom()\n",
        "ax.get_yaxis().tick_left()\n",
        "\n",
        "sns.lineplot(\n",
        "    data = ca_cv_df,\n",
        "    x = 'date',\n",
        "    y = 'cases',\n",
        "    palette = palette\n",
        ")"
      ],
      "execution_count": 5,
      "outputs": [
        {
          "output_type": "execute_result",
          "data": {
            "text/plain": [
              "<matplotlib.axes._subplots.AxesSubplot at 0x7fab16789358>"
            ]
          },
          "metadata": {
            "tags": []
          },
          "execution_count": 5
        },
        {
          "output_type": "display_data",
          "data": {
            "image/png": "[encoded data removed]",
            "text/plain": [
              "<Figure size 1440x720 with 1 Axes>"
            ]
          },
          "metadata": {
            "tags": []
          }
        }
      ]
    },
    {
      "cell_type": "code",
      "metadata": {
        "id": "ks2_NxKrEyFt",
        "colab_type": "code",
        "colab": {
          "base_uri": "https://localhost:8080/",
          "height": 35
        },
        "outputId": "a3f3984b-3480-4f2d-e656-afc52081df6c"
      },
      "source": [
        ""
      ],
      "execution_count": 6,
      "outputs": [
        {
          "output_type": "execute_result",
          "data": {
            "application/vnd.google.colaboratory.intrinsic+json": {
              "type": "string"
            },
            "text/plain": [
              "'0.10.1'"
            ]
          },
          "metadata": {
            "tags": []
          },
          "execution_count": 6
        }
      ]
    },
    {
      "cell_type": "code",
      "metadata": {
        "id": "-bOGnaPuEnLO",
        "colab_type": "code",
        "colab": {}
      },
      "source": [
        ""
      ],
      "execution_count": null,
      "outputs": []
    }
  ]
}