{
 "cells": [
  {
   "cell_type": "code",
   "execution_count": 1,
   "id": "ad3c7c5c-3b40-499a-99ad-5ec2bcefaabb",
   "metadata": {},
   "outputs": [],
   "source": [
    "from phi4_llm.real_estate_agent import RealEstateAgent\n",
    "\n",
    "# Initialize agent\n",
    "agent = RealEstateAgent()"
   ]
  },
  {
   "cell_type": "code",
   "execution_count": 2,
   "id": "11a33bb5-fc90-4836-aef1-c378028bd0ff",
   "metadata": {},
   "outputs": [],
   "source": [
    "sample_property = {\n",
    "    \"address\": \"123 Main St, Palo Alto, CA\",\n",
    "    \"price\": 2500000,\n",
    "    \"sqft\": 1800,\n",
    "    \"beds\": 3,\n",
    "    \"baths\": 2,\n",
    "    \"lot_size\": 5000,\n",
    "    \"year_built\": 1985,\n",
    "    \"condition\": \"Good\",\n",
    "    \"features\": [\"Updated Kitchen\", \"Solar Panels\", \"EV Charger\"]\n",
    "}\n",
    "    \n",
    "sample_comps = [\n",
    "    {\n",
    "        \"address\": \"456 Oak St, Palo Alto, CA\",\n",
    "        \"price\": 2600000,\n",
    "        \"sqft\": 1850,\n",
    "        \"beds\": 3,\n",
    "        \"baths\": 2,\n",
    "        \"dom\": 15\n",
    "    },\n",
    "    {\n",
    "        \"address\": \"789 Elm St, Palo Alto, CA\",\n",
    "        \"price\": 2400000,\n",
    "        \"sqft\": 1750,\n",
    "        \"beds\": 3,\n",
    "        \"baths\": 2,\n",
    "        \"dom\": 25\n",
    "    }\n",
    "]\n",
    "\n",
    "sample_market = {\n",
    "    \"Median DOM\": \"18 days\",\n",
    "    \"Price Trend\": \"Up 5% YoY\",\n",
    "    \"Inventory\": \"2.1 months\",\n",
    "    \"Sale/List Ratio\": \"102%\"\n",
    "}"
   ]
  },
  {
   "cell_type": "code",
   "execution_count": 3,
   "id": "96d61936-7a46-4a00-8d48-21ac5311d035",
   "metadata": {},
   "outputs": [
    {
     "name": "stderr",
     "output_type": "stream",
     "text": [
      "2025-02-09 11:49:09,519 - INFO - Loading tokenizer from microsoft/phi-4\n",
      "2025-02-09 11:49:09,860 - INFO - Loading model from microsoft/phi-4\n",
      "2025-02-09 11:49:10,520 - INFO - We will use 90% of the memory on device 0 for storing the model, and 10% for the buffer to avoid OOM. You can set `max_memory` in to a higher value to use more memory (at your own risk).\n"
     ]
    },
    {
     "data": {
      "application/vnd.jupyter.widget-view+json": {
       "model_id": "2a7d3b5eb3214ea68d89a3454357546f",
       "version_major": 2,
       "version_minor": 0
      },
      "text/plain": [
       "Loading checkpoint shards:   0%|          | 0/6 [00:00<?, ?it/s]"
      ]
     },
     "metadata": {},
     "output_type": "display_data"
    },
    {
     "name": "stderr",
     "output_type": "stream",
     "text": [
      "2025-02-09 11:49:23,613 - WARNING - Some parameters are on the meta device because they were offloaded to the cpu.\n",
      "2025-02-09 11:49:23,614 - INFO - Model and tokenizer loaded successfully\n",
      "2025-02-09 11:49:23,614 - INFO - Real Estate Agent model loaded successfully\n",
      "C:\\Users\\Aditya Goyal\\AppData\\Local\\Packages\\PythonSoftwareFoundation.Python.3.13_qbz5n2kfra8p0\\LocalCache\\local-packages\\Python313\\site-packages\\transformers\\generation\\configuration_utils.py:628: UserWarning: `do_sample` is set to `False`. However, `temperature` is set to `0.7` -- this flag is only used in sample-based generation modes. You should set `do_sample=True` or unset `temperature`.\n",
      "  warnings.warn(\n",
      "The attention mask is not set and cannot be inferred from input because pad token is same as eos token. As a consequence, you may observe unexpected behavior. Please pass your input's `attention_mask` to obtain reliable results.\n"
     ]
    }
   ],
   "source": [
    "analysis = agent.analyze_property(sample_property, sample_comps, sample_market)"
   ]
  },
  {
   "cell_type": "code",
   "execution_count": 4,
   "id": "43069ec9-73dd-4192-828c-73e7787b678d",
   "metadata": {},
   "outputs": [
    {
     "name": "stdout",
     "output_type": "stream",
     "text": [
      "\n"
     ]
    }
   ],
   "source": [
    "print(analysis)"
   ]
  },
  {
   "cell_type": "code",
   "execution_count": null,
   "id": "dd4301ef-6443-4cf1-81ba-17fb4a3497f6",
   "metadata": {},
   "outputs": [],
   "source": []
  }
 ],
 "metadata": {
  "kernelspec": {
   "display_name": "Python 3 (ipykernel)",
   "language": "python",
   "name": "python3"
  },
  "language_info": {
   "codemirror_mode": {
    "name": "ipython",
    "version": 3
   },
   "file_extension": ".py",
   "mimetype": "text/x-python",
   "name": "python",
   "nbconvert_exporter": "python",
   "pygments_lexer": "ipython3",
   "version": "3.13.2"
  }
 },
 "nbformat": 4,
 "nbformat_minor": 5
}
