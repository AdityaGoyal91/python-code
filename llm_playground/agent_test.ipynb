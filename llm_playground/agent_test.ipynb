{
 "cells": [
  {
   "cell_type": "code",
   "execution_count": 10,
   "id": "ad3c7c5c-3b40-499a-99ad-5ec2bcefaabb",
   "metadata": {},
   "outputs": [],
   "source": [
    "from phi4_llm.real_estate_agent import RealEstateAgent\n",
    "from phi4_llm.simple_ask_agent import ask_phi4\n",
    "\n",
    "# Initialize agent\n",
    "agent = RealEstateAgent()"
   ]
  },
  {
   "cell_type": "code",
   "execution_count": 11,
   "id": "67709c1a-9b3e-40ef-8921-0f90720b5f62",
   "metadata": {
    "scrolled": true
   },
   "outputs": [
    {
     "data": {
      "application/vnd.jupyter.widget-view+json": {
       "model_id": "69b217df3f1946ee8334a167818ef006",
       "version_major": 2,
       "version_minor": 0
      },
      "text/plain": [
       "Downloading shards:   0%|          | 0/6 [00:00<?, ?it/s]"
      ]
     },
     "metadata": {},
     "output_type": "display_data"
    },
    {
     "data": {
      "application/vnd.jupyter.widget-view+json": {
       "model_id": "333f3ce3503543c69f79390f128982b0",
       "version_major": 2,
       "version_minor": 0
      },
      "text/plain": [
       "model-00001-of-00006.safetensors:  30%|##9       | 1.48G/4.93G [00:00<?, ?B/s]"
      ]
     },
     "metadata": {},
     "output_type": "display_data"
    },
    {
     "data": {
      "application/vnd.jupyter.widget-view+json": {
       "model_id": "c6a7f27db786471baf2250660abcc924",
       "version_major": 2,
       "version_minor": 0
      },
      "text/plain": [
       "model-00002-of-00006.safetensors:   0%|          | 0.00/4.95G [00:00<?, ?B/s]"
      ]
     },
     "metadata": {},
     "output_type": "display_data"
    },
    {
     "data": {
      "application/vnd.jupyter.widget-view+json": {
       "model_id": "6a5942e785804ee09cfef1636a15b04d",
       "version_major": 2,
       "version_minor": 0
      },
      "text/plain": [
       "model-00003-of-00006.safetensors:   0%|          | 0.00/4.90G [00:00<?, ?B/s]"
      ]
     },
     "metadata": {},
     "output_type": "display_data"
    },
    {
     "data": {
      "application/vnd.jupyter.widget-view+json": {
       "model_id": "a40dc6e5301641ee9030db0d179487b9",
       "version_major": 2,
       "version_minor": 0
      },
      "text/plain": [
       "model-00004-of-00006.safetensors:   0%|          | 0.00/4.77G [00:00<?, ?B/s]"
      ]
     },
     "metadata": {},
     "output_type": "display_data"
    },
    {
     "data": {
      "application/vnd.jupyter.widget-view+json": {
       "model_id": "c1983d98be6f42bd8b31c6f1f95b9d40",
       "version_major": 2,
       "version_minor": 0
      },
      "text/plain": [
       "model-00005-of-00006.safetensors:   0%|          | 0.00/4.77G [00:00<?, ?B/s]"
      ]
     },
     "metadata": {},
     "output_type": "display_data"
    },
    {
     "data": {
      "application/vnd.jupyter.widget-view+json": {
       "model_id": "59992284f2ed40cea16bc1c0b79ca5bd",
       "version_major": 2,
       "version_minor": 0
      },
      "text/plain": [
       "model-00006-of-00006.safetensors:   0%|          | 0.00/4.99G [00:00<?, ?B/s]"
      ]
     },
     "metadata": {},
     "output_type": "display_data"
    },
    {
     "name": "stderr",
     "output_type": "stream",
     "text": [
      "2025-02-09 21:19:27,351 - INFO - We will use 90% of the memory on device 0 for storing the model, and 10% for the buffer to avoid OOM. You can set `max_memory` in to a higher value to use more memory (at your own risk).\n"
     ]
    },
    {
     "data": {
      "application/vnd.jupyter.widget-view+json": {
       "model_id": "0455b72db073478d957a199e0ef46da4",
       "version_major": 2,
       "version_minor": 0
      },
      "text/plain": [
       "Loading checkpoint shards:   0%|          | 0/6 [00:00<?, ?it/s]"
      ]
     },
     "metadata": {},
     "output_type": "display_data"
    },
    {
     "data": {
      "application/vnd.jupyter.widget-view+json": {
       "model_id": "26db9088ffd245fa8efe0dc1c847796e",
       "version_major": 2,
       "version_minor": 0
      },
      "text/plain": [
       "generation_config.json:   0%|          | 0.00/156 [00:00<?, ?B/s]"
      ]
     },
     "metadata": {},
     "output_type": "display_data"
    },
    {
     "name": "stderr",
     "output_type": "stream",
     "text": [
      "2025-02-09 21:19:35,938 - WARNING - Some parameters are on the meta device because they were offloaded to the cpu and disk.\n"
     ]
    }
   ],
   "source": [
    "response = ask_phi4(\"What is 1 + 1?\")"
   ]
  },
  {
   "cell_type": "code",
   "execution_count": 13,
   "id": "118967d1-19fa-463e-8084-c59918ad6df0",
   "metadata": {},
   "outputs": [
    {
     "name": "stdout",
     "output_type": "stream",
     "text": [
      "\n"
     ]
    }
   ],
   "source": [
    "print(response)"
   ]
  },
  {
   "cell_type": "code",
   "execution_count": 2,
   "id": "11a33bb5-fc90-4836-aef1-c378028bd0ff",
   "metadata": {},
   "outputs": [],
   "source": [
    "sample_property = {\n",
    "    \"address\": \"123 Main St, Palo Alto, CA\",\n",
    "    \"price\": 2500000,\n",
    "    \"sqft\": 1800,\n",
    "    \"beds\": 3,\n",
    "    \"baths\": 2,\n",
    "    \"lot_size\": 5000,\n",
    "    \"year_built\": 1985,\n",
    "    \"condition\": \"Good\",\n",
    "    \"features\": [\"Updated Kitchen\", \"Solar Panels\", \"EV Charger\"]\n",
    "}\n",
    "    \n",
    "sample_comps = [\n",
    "    {\n",
    "        \"address\": \"456 Oak St, Palo Alto, CA\",\n",
    "        \"price\": 2600000,\n",
    "        \"sqft\": 1850,\n",
    "        \"beds\": 3,\n",
    "        \"baths\": 2,\n",
    "        \"dom\": 15\n",
    "    },\n",
    "    {\n",
    "        \"address\": \"789 Elm St, Palo Alto, CA\",\n",
    "        \"price\": 2400000,\n",
    "        \"sqft\": 1750,\n",
    "        \"beds\": 3,\n",
    "        \"baths\": 2,\n",
    "        \"dom\": 25\n",
    "    }\n",
    "]\n",
    "\n",
    "sample_market = {\n",
    "    \"Median DOM\": \"18 days\",\n",
    "    \"Price Trend\": \"Up 5% YoY\",\n",
    "    \"Inventory\": \"2.1 months\",\n",
    "    \"Sale/List Ratio\": \"102%\"\n",
    "}"
   ]
  },
  {
   "cell_type": "code",
   "execution_count": 5,
   "id": "96d61936-7a46-4a00-8d48-21ac5311d035",
   "metadata": {},
   "outputs": [],
   "source": [
    "analysis = agent.analyze_property(sample_property, sample_comps, sample_market)"
   ]
  },
  {
   "cell_type": "code",
   "execution_count": 6,
   "id": "43069ec9-73dd-4192-828c-73e7787b678d",
   "metadata": {},
   "outputs": [
    {
     "name": "stdout",
     "output_type": "stream",
     "text": [
      "Error: Model generated empty response. Please try adjusting the parameters or reformulating the prompt.\n"
     ]
    }
   ],
   "source": [
    "print(analysis)"
   ]
  },
  {
   "cell_type": "code",
   "execution_count": null,
   "id": "53528dbe-0501-4832-9443-c07826bd2b9c",
   "metadata": {},
   "outputs": [],
   "source": []
  },
  {
   "cell_type": "code",
   "execution_count": null,
   "id": "dd4301ef-6443-4cf1-81ba-17fb4a3497f6",
   "metadata": {},
   "outputs": [],
   "source": []
  }
 ],
 "metadata": {
  "kernelspec": {
   "display_name": "Python 3 (ipykernel)",
   "language": "python",
   "name": "python3"
  },
  "language_info": {
   "codemirror_mode": {
    "name": "ipython",
    "version": 3
   },
   "file_extension": ".py",
   "mimetype": "text/x-python",
   "name": "python",
   "nbconvert_exporter": "python",
   "pygments_lexer": "ipython3",
   "version": "3.13.2"
  }
 },
 "nbformat": 4,
 "nbformat_minor": 5
}
