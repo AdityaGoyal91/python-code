{
 "cells": [
  {
   "cell_type": "code",
   "execution_count": 1,
   "id": "6b685752-d0bd-4140-b260-c55616fa39af",
   "metadata": {},
   "outputs": [],
   "source": [
    "from transformers import AutoModelForCausalLM, AutoTokenizer\n",
    "import torch"
   ]
  },
  {
   "cell_type": "code",
   "execution_count": 2,
   "id": "ad3c7c5c-3b40-499a-99ad-5ec2bcefaabb",
   "metadata": {},
   "outputs": [],
   "source": [
    "from phi4_llm.real_estate_agent import RealEstateAgent\n",
    "from phi4_llm.simple_ask_agent import Phi4Agent"
   ]
  },
  {
   "cell_type": "code",
   "execution_count": null,
   "id": "8e010b05-5391-47ef-8ec6-f60c9766465d",
   "metadata": {},
   "outputs": [
    {
     "name": "stdout",
     "output_type": "stream",
     "text": [
      "Loading tokenizer from microsoft/phi-4...\n",
      "Loading model from microsoft/phi-4...\n"
     ]
    },
    {
     "name": "stderr",
     "output_type": "stream",
     "text": [
      "2025-02-09 22:10:23,916 - INFO - We will use 90% of the memory on device 0 for storing the model, and 10% for the buffer to avoid OOM. You can set `max_memory` in to a higher value to use more memory (at your own risk).\n"
     ]
    },
    {
     "data": {
      "application/vnd.jupyter.widget-view+json": {
       "model_id": "771ed14fdd2c4c7394e141baa4c5f9a9",
       "version_major": 2,
       "version_minor": 0
      },
      "text/plain": [
       "Loading checkpoint shards:   0%|          | 0/6 [00:00<?, ?it/s]"
      ]
     },
     "metadata": {},
     "output_type": "display_data"
    },
    {
     "name": "stderr",
     "output_type": "stream",
     "text": [
      "2025-02-09 22:10:36,363 - WARNING - Some parameters are on the meta device because they were offloaded to the cpu.\n",
      "C:\\Users\\Aditya Goyal\\AppData\\Local\\Packages\\PythonSoftwareFoundation.Python.3.13_qbz5n2kfra8p0\\LocalCache\\local-packages\\Python313\\site-packages\\transformers\\generation\\configuration_utils.py:676: UserWarning: `num_beams` is set to 1. However, `early_stopping` is set to `True` -- this flag is only used in beam-based generation modes. You should set `num_beams>1` or unset `early_stopping`.\n",
      "  warnings.warn(\n"
     ]
    },
    {
     "name": "stdout",
     "output_type": "stream",
     "text": [
      "Model loaded successfully!\n",
      "Sending prompt: Instruction: What is 1 + 1?\n",
      "Response:\n"
     ]
    }
   ],
   "source": [
    "agent = Phi4Agent()\n",
    "response = agent.ask(\"What is 1 + 1?\")"
   ]
  },
  {
   "cell_type": "code",
   "execution_count": null,
   "id": "cf46bb0d-525e-44be-a035-a9d9d57823c4",
   "metadata": {},
   "outputs": [],
   "source": [
    "print(response)"
   ]
  }
 ],
 "metadata": {
  "kernelspec": {
   "display_name": "Python 3 (ipykernel)",
   "language": "python",
   "name": "python3"
  },
  "language_info": {
   "codemirror_mode": {
    "name": "ipython",
    "version": 3
   },
   "file_extension": ".py",
   "mimetype": "text/x-python",
   "name": "python",
   "nbconvert_exporter": "python",
   "pygments_lexer": "ipython3",
   "version": "3.13.2"
  }
 },
 "nbformat": 4,
 "nbformat_minor": 5
}
